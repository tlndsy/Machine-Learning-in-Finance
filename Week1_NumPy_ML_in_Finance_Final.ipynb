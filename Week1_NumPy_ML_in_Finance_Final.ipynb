{
  "cells": [
    {
      "cell_type": "markdown",
      "metadata": {
        "id": "view-in-github",
        "colab_type": "text"
      },
      "source": [
        "<a href=\"https://colab.research.google.com/github/tlndsy/Machine-Learning-in-Finance/blob/main/Week1_NumPy_ML_in_Finance_Final.ipynb\" target=\"_parent\"><img src=\"https://colab.research.google.com/assets/colab-badge.svg\" alt=\"Open In Colab\"/></a>"
      ]
    },
    {
      "cell_type": "markdown",
      "metadata": {
        "id": "UOc01ZpLvy8C"
      },
      "source": [
        "<html> <h1 style=\"font-style:bold; color:blue;\"> Machine Learning in Finance </h1> </html>"
      ]
    },
    {
      "cell_type": "markdown",
      "metadata": {
        "id": "u34vyezPvy8G"
      },
      "source": [
        "<html> <h1 style=\"font-style:italic; color:blue;\"> Week-1 </h1> </html>\n"
      ]
    },
    {
      "cell_type": "code",
      "execution_count": null,
      "metadata": {
        "id": "ti3vWuCBvy8H"
      },
      "outputs": [],
      "source": []
    },
    {
      "cell_type": "markdown",
      "metadata": {
        "id": "QbhhfNXMvy8I"
      },
      "source": [
        "# NumPy\n",
        "\n",
        "The main python library used in numerical data analysis is NumPy (or Numpy). It is a Linear Algebra Library for Python.  It is a very important library for Data Science with Python mainly because Numpy is incredibly fast, as it has bindings to C libraries.\n",
        "\n",
        "It provides a high-performance multidimensional array object, and tools for working with these arrays.\n",
        "\n",
        "This practical gives only an introduction to Numpy."
      ]
    },
    {
      "cell_type": "markdown",
      "metadata": {
        "id": "UOX3-nRmvy8J"
      },
      "source": [
        "## Installation NumPy\n",
        "\n",
        "**In the case of using the Anaconda distribution, the Numpay has already been installed. If you have any problem with Numpay functionality, it is highly recommended to re-install Numpay using the following command:**\n",
        "    \n",
        "    install numpy\n"
      ]
    },
    {
      "cell_type": "markdown",
      "metadata": {
        "id": "WX0lrV3fvy8K"
      },
      "source": [
        "____________________________________________![image.png](attachment:d7dc4e19-f52e-4a93-b2f1-e4cd231d4be9.png)"
      ]
    },
    {
      "cell_type": "code",
      "execution_count": null,
      "metadata": {
        "id": "4lNagPbWvy8L"
      },
      "outputs": [],
      "source": [
        "import numpy as np"
      ]
    },
    {
      "cell_type": "code",
      "execution_count": null,
      "metadata": {
        "id": "F3nFWH9uvy8M"
      },
      "outputs": [],
      "source": []
    },
    {
      "cell_type": "markdown",
      "metadata": {
        "id": "l9i_CbEbvy8M"
      },
      "source": [
        "One of the most popular features of the Numpy library is the capability of operations with arrays of different sizes (or ranks).\n",
        "\n",
        "Dimensions of arrays:\n",
        "- vectors - One dimensional arrays,\n",
        "- matrices - Two dimensional arrays,\n",
        "- tensor - Three or more arrays."
      ]
    },
    {
      "cell_type": "markdown",
      "metadata": {
        "id": "ayYQOFjSvy8N"
      },
      "source": [
        "49.png![image.png](attachment:image.png)"
      ]
    },
    {
      "cell_type": "markdown",
      "metadata": {
        "id": "LW4gRvOfvy8O"
      },
      "source": [
        "____________________________________________![image.png](attachment:c8b0e131-8ac3-4605-b402-9cca1b5ba9d3.png)"
      ]
    },
    {
      "cell_type": "code",
      "execution_count": null,
      "metadata": {
        "id": "wKaLR-nkvy8P"
      },
      "outputs": [],
      "source": [
        "a = np.array([1, 2, 3])"
      ]
    },
    {
      "cell_type": "code",
      "execution_count": null,
      "metadata": {
        "id": "qJsIxF2Avy8P"
      },
      "outputs": [],
      "source": []
    },
    {
      "cell_type": "markdown",
      "metadata": {
        "id": "0m0Ciz7gvy8Q"
      },
      "source": [
        "____________________________________________![image.png](attachment:565f7ffe-ea75-4f62-b130-093f60e7e041.png)"
      ]
    },
    {
      "cell_type": "code",
      "execution_count": null,
      "metadata": {
        "id": "Gjm6nBHcvy8Q",
        "outputId": "7d78325e-ba9e-41fc-be93-77e378d57f57",
        "colab": {
          "base_uri": "https://localhost:8080/"
        }
      },
      "outputs": [
        {
          "output_type": "stream",
          "name": "stdout",
          "text": [
            "<class 'numpy.ndarray'>\n",
            "(3,)\n"
          ]
        }
      ],
      "source": [
        "print(type(a))\n",
        "print(a.shape)"
      ]
    },
    {
      "cell_type": "code",
      "execution_count": null,
      "metadata": {
        "id": "WMCA_EC9vy8S"
      },
      "outputs": [],
      "source": []
    },
    {
      "cell_type": "markdown",
      "metadata": {
        "id": "yL_XLc7nvy8S"
      },
      "source": [
        "____________________________________________![image.png](attachment:cd442ab7-487e-4b31-ab69-0177198e683e.png)"
      ]
    },
    {
      "cell_type": "code",
      "execution_count": null,
      "metadata": {
        "id": "jVMdjbNrvy8T",
        "outputId": "da275051-3e08-47fc-ccf3-78742170146c",
        "colab": {
          "base_uri": "https://localhost:8080/"
        }
      },
      "outputs": [
        {
          "output_type": "stream",
          "name": "stdout",
          "text": [
            "1 2 3\n",
            "[1 2 3]\n"
          ]
        }
      ],
      "source": [
        "print(a[0], a[1], a[2])\n",
        "print(a)"
      ]
    },
    {
      "cell_type": "code",
      "execution_count": null,
      "metadata": {
        "id": "HM1yW7q7vy8U"
      },
      "outputs": [],
      "source": []
    },
    {
      "cell_type": "markdown",
      "metadata": {
        "id": "LxAvWiIpvy8U"
      },
      "source": [
        "____________________________________________![image.png](attachment:8acae197-093e-403c-adaa-e2eefa1cca1a.png)"
      ]
    },
    {
      "cell_type": "code",
      "execution_count": null,
      "metadata": {
        "id": "EKkbrNarvy8V"
      },
      "outputs": [],
      "source": [
        "a[0] = 5"
      ]
    },
    {
      "cell_type": "code",
      "execution_count": null,
      "metadata": {
        "id": "xZqly5v6vy8V"
      },
      "outputs": [],
      "source": []
    },
    {
      "cell_type": "markdown",
      "metadata": {
        "id": "gZI6RD4xvy8W"
      },
      "source": [
        "____________________________________________![image.png](attachment:f676ad92-bb1d-49c6-bff6-e4aca2174453.png)"
      ]
    },
    {
      "cell_type": "code",
      "execution_count": null,
      "metadata": {
        "id": "r2-dWG6Svy8W"
      },
      "outputs": [],
      "source": [
        "b = np.array([[1,2,3],[4,5,6]])"
      ]
    },
    {
      "cell_type": "code",
      "execution_count": null,
      "metadata": {
        "id": "bEAo5l7vvy8X"
      },
      "outputs": [],
      "source": []
    },
    {
      "cell_type": "markdown",
      "metadata": {
        "id": "eiGdJ2SGvy8X"
      },
      "source": [
        "____________________________________________![image.png](attachment:193cd9e0-7861-4552-9ac9-237f88534427.png)"
      ]
    },
    {
      "cell_type": "code",
      "execution_count": null,
      "metadata": {
        "id": "40-YpJxnvy8Y",
        "outputId": "f7b50b18-8319-425c-f9bf-42872ed488c0",
        "colab": {
          "base_uri": "https://localhost:8080/"
        }
      },
      "outputs": [
        {
          "output_type": "stream",
          "name": "stdout",
          "text": [
            "4\n"
          ]
        }
      ],
      "source": [
        "print(b[1, 0])"
      ]
    },
    {
      "cell_type": "code",
      "execution_count": null,
      "metadata": {
        "id": "OGq6ugnOvy8Z"
      },
      "outputs": [],
      "source": []
    },
    {
      "cell_type": "code",
      "execution_count": null,
      "metadata": {
        "id": "-4ftqYplvy8Z"
      },
      "outputs": [],
      "source": []
    },
    {
      "cell_type": "markdown",
      "metadata": {
        "id": "Us7iCKMnvy8a"
      },
      "source": [
        "### arange\n",
        "\n",
        "The arange() method is used to return an evenly spaced values within a given interval.\n",
        "The method has the following parameters:\n",
        "- **start** parameter (inclusive in the sequence)  \n",
        "- **end** parameter (exclusive in the sequence)\n",
        "- **step size** (optional parameter used to find the next element in the sequence)\n"
      ]
    },
    {
      "cell_type": "markdown",
      "metadata": {
        "id": "jNwzzkKovy8a"
      },
      "source": [
        "____________________________________________![image.png](attachment:be72cd71-324f-4b2f-a9eb-9f58864ee035.png)"
      ]
    },
    {
      "cell_type": "code",
      "execution_count": null,
      "metadata": {
        "id": "HNy7YmIfvy8a",
        "colab": {
          "base_uri": "https://localhost:8080/"
        },
        "outputId": "ae55ec5c-d298-4b47-c1a5-531d88c31b56"
      },
      "outputs": [
        {
          "output_type": "execute_result",
          "data": {
            "text/plain": [
              "array([], dtype=int64)"
            ]
          },
          "metadata": {},
          "execution_count": 8
        }
      ],
      "source": [
        "np.arange(10,2)"
      ]
    },
    {
      "cell_type": "code",
      "execution_count": null,
      "metadata": {
        "id": "2XYC8X2tvy8b"
      },
      "outputs": [],
      "source": []
    },
    {
      "cell_type": "markdown",
      "metadata": {
        "id": "c-olUsv4vy8c"
      },
      "source": [
        "____________________________________________![image.png](attachment:793515fa-88f9-471d-bb3d-6b28e65a20c1.png)"
      ]
    },
    {
      "cell_type": "code",
      "execution_count": null,
      "metadata": {
        "id": "7Bjr5ZM3vy8c"
      },
      "outputs": [],
      "source": []
    },
    {
      "cell_type": "code",
      "execution_count": null,
      "metadata": {
        "id": "HhemF1cMvy8d"
      },
      "outputs": [],
      "source": []
    },
    {
      "cell_type": "code",
      "execution_count": null,
      "metadata": {
        "id": "VG2nAWcQvy8d"
      },
      "outputs": [],
      "source": []
    },
    {
      "cell_type": "markdown",
      "metadata": {
        "id": "sS_BvO36vy8d"
      },
      "source": [
        "<html> <h3 style=\"font-style:italic; color:blue;\"> Let us compare the performance of Numpay and Python arrays. </h3> </html>"
      ]
    },
    {
      "cell_type": "code",
      "execution_count": null,
      "metadata": {
        "id": "cfPPMuEvvy8e"
      },
      "outputs": [],
      "source": [
        "# timeit - executes the code several times and gives statistics."
      ]
    },
    {
      "cell_type": "markdown",
      "metadata": {
        "id": "1LbOZHIQvy9J"
      },
      "source": [
        "#### Now just press 'CTRL' and 'ENTER' keys on the next cells."
      ]
    },
    {
      "cell_type": "code",
      "execution_count": null,
      "metadata": {
        "id": "7TXf1SEZvy9K",
        "outputId": "082e7d5f-7ee2-4d36-f880-a13732d753f1",
        "colab": {
          "base_uri": "https://localhost:8080/"
        }
      },
      "outputs": [
        {
          "output_type": "stream",
          "name": "stdout",
          "text": [
            "1.78 µs ± 164 ns per loop (mean ± std. dev. of 7 runs, 100000 loops each)\n"
          ]
        }
      ],
      "source": [
        "%timeit np.arange(0, 1000)"
      ]
    },
    {
      "cell_type": "code",
      "execution_count": null,
      "metadata": {
        "id": "7NwsPcQ1vy9L",
        "outputId": "925e6d5b-78b4-46c5-f094-fa85105f83e0",
        "colab": {
          "base_uri": "https://localhost:8080/"
        }
      },
      "outputs": [
        {
          "output_type": "stream",
          "name": "stdout",
          "text": [
            "84 ns ± 22.1 ns per loop (mean ± std. dev. of 7 runs, 10000000 loops each)\n"
          ]
        }
      ],
      "source": [
        "%timeit range(0, 1000)"
      ]
    },
    {
      "cell_type": "code",
      "execution_count": null,
      "metadata": {
        "id": "sbSrUiizvy9L"
      },
      "outputs": [],
      "source": []
    },
    {
      "cell_type": "markdown",
      "metadata": {
        "id": "-jjj_AS4vy9M"
      },
      "source": [
        "<html> <h3 style=\"color:blue;\"> Numpy also provides many functions to create arrays </h3> </html>"
      ]
    },
    {
      "cell_type": "markdown",
      "metadata": {
        "id": "Am0nQwEhvy9N"
      },
      "source": [
        "____________________________________________![image.png](attachment:5644d1a1-af6f-499a-8b57-56e2b163cf07.png)"
      ]
    },
    {
      "cell_type": "code",
      "execution_count": null,
      "metadata": {
        "id": "_XShkj-2vy9N",
        "colab": {
          "base_uri": "https://localhost:8080/"
        },
        "outputId": "726912a1-00e6-4f92-e769-f072afe89c40"
      },
      "outputs": [
        {
          "output_type": "execute_result",
          "data": {
            "text/plain": [
              "array([[0., 0.],\n",
              "       [0., 0.]])"
            ]
          },
          "metadata": {},
          "execution_count": 12
        }
      ],
      "source": [
        "a = np.zeros((2,2))\n",
        "a"
      ]
    },
    {
      "cell_type": "code",
      "execution_count": null,
      "metadata": {
        "id": "Jvg7ZsGTvy9O"
      },
      "outputs": [],
      "source": []
    },
    {
      "cell_type": "markdown",
      "metadata": {
        "id": "qWRD5DvVvy9O"
      },
      "source": [
        "____________________________________________![image.png](attachment:2b89ec2a-047e-4e58-9ca8-fcb0f4cb6b5b.png)"
      ]
    },
    {
      "cell_type": "code",
      "execution_count": null,
      "metadata": {
        "id": "lTL2-b50vy9P",
        "colab": {
          "base_uri": "https://localhost:8080/"
        },
        "outputId": "68f5054d-aa35-4c1d-f961-21402ce28114"
      },
      "outputs": [
        {
          "output_type": "execute_result",
          "data": {
            "text/plain": [
              "array([[1., 1., 1., 1.],\n",
              "       [1., 1., 1., 1.],\n",
              "       [1., 1., 1., 1.]])"
            ]
          },
          "metadata": {},
          "execution_count": 13
        }
      ],
      "source": [
        "b = np.ones((3,4))\n",
        "b"
      ]
    },
    {
      "cell_type": "code",
      "execution_count": null,
      "metadata": {
        "id": "ckrtrSS4vy9P"
      },
      "outputs": [],
      "source": []
    },
    {
      "cell_type": "markdown",
      "metadata": {
        "id": "BtkASVqkvy9Q"
      },
      "source": [
        "____________________________________________![image.png](attachment:267a89d5-8030-4262-b0b8-6c744458ad89.png)"
      ]
    },
    {
      "cell_type": "code",
      "execution_count": null,
      "metadata": {
        "id": "PUZGgwEAvy9Q",
        "colab": {
          "base_uri": "https://localhost:8080/"
        },
        "outputId": "5739d3bb-018f-4331-eb2a-239bf35673b1"
      },
      "outputs": [
        {
          "output_type": "execute_result",
          "data": {
            "text/plain": [
              "array([[1., 0., 0., 0.],\n",
              "       [0., 1., 0., 0.],\n",
              "       [0., 0., 1., 0.],\n",
              "       [0., 0., 0., 1.]])"
            ]
          },
          "metadata": {},
          "execution_count": 14
        }
      ],
      "source": [
        "np.eye(4)"
      ]
    },
    {
      "cell_type": "code",
      "execution_count": null,
      "metadata": {
        "id": "abU-Xaclvy9R"
      },
      "outputs": [],
      "source": []
    },
    {
      "cell_type": "markdown",
      "metadata": {
        "id": "GvN_1Zszvy9R"
      },
      "source": [
        "____________________________________________![image.png](attachment:339d2c8c-51d3-4874-9dd6-ccc57337eeb1.png)"
      ]
    },
    {
      "cell_type": "code",
      "execution_count": null,
      "metadata": {
        "id": "iTlDqUj4vy9S",
        "colab": {
          "base_uri": "https://localhost:8080/"
        },
        "outputId": "8458c4cc-6d3a-4576-a299-06cb20df1c6e"
      },
      "outputs": [
        {
          "output_type": "execute_result",
          "data": {
            "text/plain": [
              "array([[0.57566411, 0.5824762 ],\n",
              "       [0.02216853, 0.08560934]])"
            ]
          },
          "metadata": {},
          "execution_count": 15
        }
      ],
      "source": [
        "e = np.random.random((2,2))\n",
        "e"
      ]
    },
    {
      "cell_type": "code",
      "execution_count": null,
      "metadata": {
        "id": "4v6ZtyLdvy9S"
      },
      "outputs": [],
      "source": []
    },
    {
      "cell_type": "markdown",
      "metadata": {
        "id": "0GvHxwx3vy9T"
      },
      "source": [
        "____________________________________________![image.png](attachment:155cb7d7-48d9-4b79-a551-503d42cca2b9.png)"
      ]
    },
    {
      "cell_type": "code",
      "execution_count": null,
      "metadata": {
        "id": "GQtPXCThvy9U",
        "colab": {
          "base_uri": "https://localhost:8080/"
        },
        "outputId": "9e5bc20f-0b16-4663-990c-87d9c35c10d9"
      },
      "outputs": [
        {
          "output_type": "execute_result",
          "data": {
            "text/plain": [
              "array([ 0.,  2.,  4.,  6.,  8., 10., 12., 14., 16., 18., 20.])"
            ]
          },
          "metadata": {},
          "execution_count": 16
        }
      ],
      "source": [
        "np.linspace(0,20,11)"
      ]
    },
    {
      "cell_type": "code",
      "execution_count": null,
      "metadata": {
        "id": "99C6D28Mvy9U"
      },
      "outputs": [],
      "source": []
    },
    {
      "cell_type": "markdown",
      "metadata": {
        "id": "rj_JeEoCvy9V"
      },
      "source": [
        "____________________________________________![image.png](attachment:46117baf-57b3-493c-b73d-d3255b181220.png)"
      ]
    },
    {
      "cell_type": "code",
      "execution_count": null,
      "metadata": {
        "id": "4BAZ_mRVvy9V",
        "colab": {
          "base_uri": "https://localhost:8080/"
        },
        "outputId": "6331ba0f-f910-4851-96ec-3be0e6269329"
      },
      "outputs": [
        {
          "output_type": "execute_result",
          "data": {
            "text/plain": [
              "array([ 0.        ,  0.68965517,  1.37931034,  2.06896552,  2.75862069,\n",
              "        3.44827586,  4.13793103,  4.82758621,  5.51724138,  6.20689655,\n",
              "        6.89655172,  7.5862069 ,  8.27586207,  8.96551724,  9.65517241,\n",
              "       10.34482759, 11.03448276, 11.72413793, 12.4137931 , 13.10344828,\n",
              "       13.79310345, 14.48275862, 15.17241379, 15.86206897, 16.55172414,\n",
              "       17.24137931, 17.93103448, 18.62068966, 19.31034483, 20.        ])"
            ]
          },
          "metadata": {},
          "execution_count": 17
        }
      ],
      "source": [
        "np.linspace(0,20,30)"
      ]
    },
    {
      "cell_type": "code",
      "execution_count": null,
      "metadata": {
        "id": "UJDawx-ovy9W"
      },
      "outputs": [],
      "source": []
    },
    {
      "cell_type": "code",
      "execution_count": null,
      "metadata": {
        "id": "SwYZuKc8vy9W"
      },
      "outputs": [],
      "source": []
    },
    {
      "cell_type": "markdown",
      "metadata": {
        "id": "-10hUJiuvy9W"
      },
      "source": [
        "<html> <h3 style=\"color:blue;\"> Array Indexing </h3> </html>"
      ]
    },
    {
      "cell_type": "markdown",
      "metadata": {
        "id": "ypRGby6Pvy9X"
      },
      "source": [
        "**Slicing:**\n",
        "    Similar to Python lists, numpy arrays can be sliced. Since arrays may be multidimensional, you must specify a slice for each dimension of the array:"
      ]
    },
    {
      "cell_type": "markdown",
      "metadata": {
        "id": "JM0XuP20vy9Y"
      },
      "source": [
        "..................................................![image.png](attachment:11cabfa7-9787-4a3a-94d5-f27b5089bbea.png)"
      ]
    },
    {
      "cell_type": "code",
      "execution_count": null,
      "metadata": {
        "id": "nLgbVcQ6vy9Y",
        "colab": {
          "base_uri": "https://localhost:8080/"
        },
        "outputId": "2ac9b9f7-6a3a-49fd-8111-b5c7f9a3ae47"
      },
      "outputs": [
        {
          "output_type": "execute_result",
          "data": {
            "text/plain": [
              "array([[ 1,  2,  3,  4],\n",
              "       [ 5,  6,  7,  8],\n",
              "       [ 9, 10, 11, 12]])"
            ]
          },
          "metadata": {},
          "execution_count": 18
        }
      ],
      "source": [
        "a = np.array([[1,2,3,4],[5,6,7,8],[9,10,11,12]])\n",
        "a"
      ]
    },
    {
      "cell_type": "code",
      "execution_count": null,
      "metadata": {
        "id": "HvygXa6Mvy9Z"
      },
      "outputs": [],
      "source": []
    },
    {
      "cell_type": "markdown",
      "metadata": {
        "id": "Wh0epcFuvy9Z"
      },
      "source": [
        "____________________________________________![image.png](attachment:b4086256-1bbb-4e1c-820c-415d37eb11b2.png)"
      ]
    },
    {
      "cell_type": "code",
      "execution_count": null,
      "metadata": {
        "id": "VMP9_k47vy9a",
        "colab": {
          "base_uri": "https://localhost:8080/"
        },
        "outputId": "058e8538-0c98-4ff9-b73f-b5486c9ec45a"
      },
      "outputs": [
        {
          "output_type": "execute_result",
          "data": {
            "text/plain": [
              "array([[2, 3],\n",
              "       [6, 7]])"
            ]
          },
          "metadata": {},
          "execution_count": 19
        }
      ],
      "source": [
        "b = a[:2,1:3]\n",
        "b"
      ]
    },
    {
      "cell_type": "code",
      "execution_count": null,
      "metadata": {
        "id": "n1qxrLN6vy9a"
      },
      "outputs": [],
      "source": []
    },
    {
      "cell_type": "markdown",
      "metadata": {
        "id": "tponXUuAvy9a"
      },
      "source": [
        "____________________________________________![image.png](attachment:f3b12e40-eda9-467d-9711-d9b57f20f6ea.png)"
      ]
    },
    {
      "cell_type": "code",
      "execution_count": null,
      "metadata": {
        "id": "P-mL2i2uvy9b",
        "colab": {
          "base_uri": "https://localhost:8080/"
        },
        "outputId": "32ffb949-526a-4ae0-b39c-8744a23dcbd2"
      },
      "outputs": [
        {
          "output_type": "stream",
          "name": "stdout",
          "text": [
            "2\n"
          ]
        }
      ],
      "source": [
        "print(a[0,1])"
      ]
    },
    {
      "cell_type": "code",
      "execution_count": null,
      "metadata": {
        "id": "Rc8rVh3svy9b"
      },
      "outputs": [],
      "source": []
    },
    {
      "cell_type": "markdown",
      "metadata": {
        "id": "mpPSKsVuvy9b"
      },
      "source": [
        "____________________________________________![image.png](attachment:3bf651f2-ee5c-4cf3-a41c-8bbfd13bd70f.png)"
      ]
    },
    {
      "cell_type": "code",
      "execution_count": null,
      "metadata": {
        "id": "3ihjVP1avy9c",
        "colab": {
          "base_uri": "https://localhost:8080/"
        },
        "outputId": "c916b001-df38-41ef-b27d-cdfe0a9f41eb"
      },
      "outputs": [
        {
          "output_type": "stream",
          "name": "stdout",
          "text": [
            "[[ 1 88  3  4]\n",
            " [ 5  6  7  8]\n",
            " [ 9 10 11 12]]\n"
          ]
        }
      ],
      "source": [
        "b[0,0] = 88\n",
        "print(a)"
      ]
    },
    {
      "cell_type": "code",
      "execution_count": null,
      "metadata": {
        "id": "FAcqq9rxvy9c"
      },
      "outputs": [],
      "source": []
    },
    {
      "cell_type": "code",
      "execution_count": null,
      "metadata": {
        "id": "jbiVugX-vy9d"
      },
      "outputs": [],
      "source": []
    },
    {
      "cell_type": "markdown",
      "metadata": {
        "id": "elzpE7xcvy9d"
      },
      "source": [
        "<html> <h3 style=\"color:blue;\"> Datatypes </h3> </html>"
      ]
    },
    {
      "cell_type": "markdown",
      "metadata": {
        "id": "s-4EtCbmvy9d"
      },
      "source": [
        "Every NumPy array is a grid of elements of the **same type**. Numpy provides a large set of numeric datatypes that you can use to construct arrays. Numpy tries to guess a datatype when you create an array, but you can explicitly specify the type using an optional argument."
      ]
    },
    {
      "cell_type": "markdown",
      "metadata": {
        "id": "li2fOBCtvy9e"
      },
      "source": [
        "____________________________________________![image.png](attachment:acf9492f-76d6-451f-90d6-f8af21190883.png)"
      ]
    },
    {
      "cell_type": "code",
      "execution_count": null,
      "metadata": {
        "id": "Aq-lWhwGvy9e",
        "colab": {
          "base_uri": "https://localhost:8080/"
        },
        "outputId": "262670c3-9f90-4b73-a18a-ab3f7d2b0daa"
      },
      "outputs": [
        {
          "output_type": "stream",
          "name": "stdout",
          "text": [
            "int64\n"
          ]
        }
      ],
      "source": [
        "x = np.array([1,2])\n",
        "print(x.dtype)"
      ]
    },
    {
      "cell_type": "code",
      "execution_count": null,
      "metadata": {
        "id": "vDuo-XFNvy9e"
      },
      "outputs": [],
      "source": []
    },
    {
      "cell_type": "markdown",
      "metadata": {
        "id": "mbEZI1WYvy9f"
      },
      "source": [
        "____________________________________________![image.png](attachment:abd5f58f-2ced-436f-bf31-f5455975721d.png)"
      ]
    },
    {
      "cell_type": "code",
      "execution_count": null,
      "metadata": {
        "id": "F_ppG-QFvy9f",
        "colab": {
          "base_uri": "https://localhost:8080/"
        },
        "outputId": "22729572-d937-4052-8623-b0209ec9fa2f"
      },
      "outputs": [
        {
          "output_type": "stream",
          "name": "stdout",
          "text": [
            "float64\n"
          ]
        }
      ],
      "source": [
        "x = np.array([1.0,2.0])\n",
        "print(x.dtype)"
      ]
    },
    {
      "cell_type": "code",
      "execution_count": null,
      "metadata": {
        "id": "WU7KmJDkvy9f"
      },
      "outputs": [],
      "source": []
    },
    {
      "cell_type": "markdown",
      "metadata": {
        "id": "NAB2ww6Bvy9g"
      },
      "source": [
        "____________________________________________![image.png](attachment:cc855679-b5ab-4be8-859f-cbecf8a0fbba.png)"
      ]
    },
    {
      "cell_type": "code",
      "execution_count": null,
      "metadata": {
        "id": "VxDemnoCvy9g",
        "colab": {
          "base_uri": "https://localhost:8080/"
        },
        "outputId": "622ee26f-b53d-4d13-9e6d-913a8945d901"
      },
      "outputs": [
        {
          "output_type": "stream",
          "name": "stdout",
          "text": [
            "int64\n"
          ]
        }
      ],
      "source": [
        "x = np.array([1,2], dtype=np.int64)\n",
        "print(x.dtype)"
      ]
    },
    {
      "cell_type": "code",
      "execution_count": null,
      "metadata": {
        "id": "tiDFmp9zvy9g"
      },
      "outputs": [],
      "source": []
    },
    {
      "cell_type": "code",
      "execution_count": null,
      "metadata": {
        "id": "gqYqO-MKvy9h"
      },
      "outputs": [],
      "source": []
    },
    {
      "cell_type": "markdown",
      "metadata": {
        "id": "f13_0ayxvy9h"
      },
      "source": [
        "<html> <h3 style=\"color:blue;\"> Array Math </h3> </html>"
      ]
    },
    {
      "cell_type": "code",
      "execution_count": null,
      "metadata": {
        "id": "UVYfQ-L8vy9h"
      },
      "outputs": [],
      "source": [
        "# Basic mathematical functions operate elementwise on arrays"
      ]
    },
    {
      "cell_type": "markdown",
      "metadata": {
        "id": "CiEP3C3Svy9i"
      },
      "source": [
        ".....................................................![image.png](attachment:62b9a0d9-3d99-4b14-a8ad-3711111afd5f.png)"
      ]
    },
    {
      "cell_type": "markdown",
      "metadata": {
        "id": "ndfjnjhyvy9i"
      },
      "source": [
        "#### Now just press 'CTRL' and 'ENTER' keys on the next cell."
      ]
    },
    {
      "cell_type": "code",
      "execution_count": null,
      "metadata": {
        "id": "jJauFKOhvy9i",
        "colab": {
          "base_uri": "https://localhost:8080/"
        },
        "outputId": "83b0b03f-4a15-4a12-8c78-401e12452536"
      },
      "outputs": [
        {
          "output_type": "stream",
          "name": "stdout",
          "text": [
            "[[1. 2.]\n",
            " [3. 4.]] \n",
            "\n",
            "[[5. 6.]\n",
            " [7. 8.]]\n"
          ]
        }
      ],
      "source": [
        "x = np.array([[1,2],[3,4]], dtype=np.float64)\n",
        "y = np.array([[5,6],[7,8]], dtype=np.float64)\n",
        "print(x, '\\n')       # '\\n' - Line break symbol\n",
        "print(y)"
      ]
    },
    {
      "cell_type": "code",
      "execution_count": null,
      "metadata": {
        "id": "aYwmkfdvvy9j"
      },
      "outputs": [],
      "source": []
    },
    {
      "cell_type": "markdown",
      "metadata": {
        "id": "z-GJLNqRvy9j"
      },
      "source": [
        "____________________________________________![image.png](attachment:c0c48780-516e-48fc-93be-796adc25d912.png)"
      ]
    },
    {
      "cell_type": "code",
      "execution_count": null,
      "metadata": {
        "id": "hAs4xZVZvy9j",
        "colab": {
          "base_uri": "https://localhost:8080/"
        },
        "outputId": "caac31ff-758d-445a-b0dd-c1d6afbf9d66"
      },
      "outputs": [
        {
          "output_type": "stream",
          "name": "stdout",
          "text": [
            "[[ 6.  8.]\n",
            " [10. 12.]]\n",
            "\n",
            "\n",
            "[[ 6.  8.]\n",
            " [10. 12.]]\n"
          ]
        }
      ],
      "source": [
        "print(x+y)\n",
        "print('\\n')\n",
        "print(np.add(x,y))"
      ]
    },
    {
      "cell_type": "code",
      "execution_count": null,
      "metadata": {
        "id": "LeFENhvAvy9k"
      },
      "outputs": [],
      "source": []
    },
    {
      "cell_type": "markdown",
      "metadata": {
        "id": "uGWj5LQFvy9k"
      },
      "source": [
        "____________________________________________![image.png](attachment:07714d60-442c-4abd-b584-a8d7af18d9bb.png)"
      ]
    },
    {
      "cell_type": "code",
      "execution_count": null,
      "metadata": {
        "id": "UHti6ta-vy9k",
        "colab": {
          "base_uri": "https://localhost:8080/"
        },
        "outputId": "d34aada7-6e88-4d72-a32c-170257f1c902"
      },
      "outputs": [
        {
          "output_type": "stream",
          "name": "stdout",
          "text": [
            "[[-4. -4.]\n",
            " [-4. -4.]] \n",
            "\n",
            "[[-4. -4.]\n",
            " [-4. -4.]]\n"
          ]
        }
      ],
      "source": [
        "print(x-y,'\\n')\n",
        "print(np.subtract(x,y))"
      ]
    },
    {
      "cell_type": "code",
      "execution_count": null,
      "metadata": {
        "id": "XreihSyevy9k"
      },
      "outputs": [],
      "source": []
    },
    {
      "cell_type": "markdown",
      "metadata": {
        "id": "OU2gTHkyvy9k"
      },
      "source": [
        "____________________________________________![image.png](attachment:b6a795f3-e338-490f-a256-39a511082445.png)"
      ]
    },
    {
      "cell_type": "code",
      "execution_count": null,
      "metadata": {
        "id": "pJi7pqxUvy9l",
        "colab": {
          "base_uri": "https://localhost:8080/"
        },
        "outputId": "91836143-f504-429d-d1c0-4cf6dffe4121"
      },
      "outputs": [
        {
          "output_type": "stream",
          "name": "stdout",
          "text": [
            "[[ 5. 12.]\n",
            " [21. 32.]] \n",
            "\n",
            "[[ 5. 12.]\n",
            " [21. 32.]]\n"
          ]
        }
      ],
      "source": [
        "print(x*y,'\\n')\n",
        "print(np.multiply(x,y))"
      ]
    },
    {
      "cell_type": "code",
      "execution_count": null,
      "metadata": {
        "id": "lx7JWBpevy9l"
      },
      "outputs": [],
      "source": []
    },
    {
      "cell_type": "markdown",
      "metadata": {
        "id": "M2Z2uB5Jvy9l"
      },
      "source": [
        "____________________________________________![image.png](attachment:3ad4361b-8759-4cf4-acda-29ef1b7d6ffc.png)"
      ]
    },
    {
      "cell_type": "code",
      "execution_count": null,
      "metadata": {
        "id": "E_LSbw_Dvy9l",
        "colab": {
          "base_uri": "https://localhost:8080/"
        },
        "outputId": "5dc003ab-cb3e-4f88-d295-dc95f853aa51"
      },
      "outputs": [
        {
          "output_type": "stream",
          "name": "stdout",
          "text": [
            "[[0.2        0.33333333]\n",
            " [0.42857143 0.5       ]]\n",
            "\n",
            "\n",
            "[[0.2        0.33333333]\n",
            " [0.42857143 0.5       ]]\n"
          ]
        }
      ],
      "source": [
        "print(x/y)\n",
        "print('\\n')\n",
        "print(np.divide(x,y))"
      ]
    },
    {
      "cell_type": "code",
      "execution_count": null,
      "metadata": {
        "id": "dIkzemJkvy9m"
      },
      "outputs": [],
      "source": []
    },
    {
      "cell_type": "markdown",
      "metadata": {
        "id": "jyCXPGXFvy9m"
      },
      "source": [
        "____________________________________________![image.png](attachment:a6875e9c-4f66-42f3-a098-5d810431a65c.png)"
      ]
    },
    {
      "cell_type": "code",
      "execution_count": null,
      "metadata": {
        "id": "SSHmd7bnvy9m",
        "colab": {
          "base_uri": "https://localhost:8080/"
        },
        "outputId": "2cb7c3ef-f675-4b07-acaa-76970a3e274f"
      },
      "outputs": [
        {
          "output_type": "stream",
          "name": "stdout",
          "text": [
            "[[1.         1.41421356]\n",
            " [1.73205081 2.        ]]\n"
          ]
        }
      ],
      "source": [
        "print(np.sqrt(x))"
      ]
    },
    {
      "cell_type": "code",
      "execution_count": null,
      "metadata": {
        "id": "YRe_cQAXvy9m"
      },
      "outputs": [],
      "source": []
    },
    {
      "cell_type": "markdown",
      "metadata": {
        "id": "hTPUTYmZvy9n"
      },
      "source": [
        "____________________________________________![image.png](attachment:85fe41cf-7053-41c8-af99-29afb236745b.png)"
      ]
    },
    {
      "cell_type": "code",
      "execution_count": null,
      "metadata": {
        "id": "GV21H-Cfvy9n",
        "outputId": "b9484f4d-1a68-407f-f5f7-eaa265091deb",
        "colab": {
          "base_uri": "https://localhost:8080/"
        }
      },
      "outputs": [
        {
          "output_type": "execute_result",
          "data": {
            "text/plain": [
              "array([[ 1.,  8.],\n",
              "       [27., 64.]])"
            ]
          },
          "metadata": {},
          "execution_count": 32
        }
      ],
      "source": [
        "x**3"
      ]
    },
    {
      "cell_type": "markdown",
      "metadata": {
        "id": "_EdF5Qvwvy9n"
      },
      "source": [
        "____________________________________________![image.png](attachment:e098f400-88dd-4718-a254-9bad8f1d50a8.png)"
      ]
    },
    {
      "cell_type": "code",
      "execution_count": null,
      "metadata": {
        "id": "iJch7gM8vy9n",
        "colab": {
          "base_uri": "https://localhost:8080/"
        },
        "outputId": "87d7f7a0-cc22-4d2e-c7ed-6b2a379fc743"
      },
      "outputs": [
        {
          "output_type": "execute_result",
          "data": {
            "text/plain": [
              "array([[1.        , 0.5       ],\n",
              "       [0.33333333, 0.25      ]])"
            ]
          },
          "metadata": {},
          "execution_count": 33
        }
      ],
      "source": [
        "1/x"
      ]
    },
    {
      "cell_type": "code",
      "execution_count": null,
      "metadata": {
        "id": "Tx_D_tgWvy9o"
      },
      "outputs": [],
      "source": []
    },
    {
      "cell_type": "code",
      "execution_count": null,
      "metadata": {
        "id": "lgBf9CZTvy9o"
      },
      "outputs": [],
      "source": []
    },
    {
      "cell_type": "markdown",
      "metadata": {
        "id": "ExPpoT7Xvy9o"
      },
      "source": [
        "<html> <h3 style=\"color:blue;\"> Matrix Multiplication </h3> </html>"
      ]
    },
    {
      "cell_type": "code",
      "execution_count": null,
      "metadata": {
        "id": "WN0vv3vIvy9o"
      },
      "outputs": [],
      "source": [
        "# Note that the above was elementwise multiplication, not matrix multiplication.\n",
        "# To receive the matrix multiplication, we use the dot function."
      ]
    },
    {
      "cell_type": "markdown",
      "metadata": {
        "id": "qr5yLvU2vy9p"
      },
      "source": [
        "#### Now just press 'CTRL' and 'ENTER' keys on the next cell."
      ]
    },
    {
      "cell_type": "code",
      "execution_count": null,
      "metadata": {
        "id": "nIbIbiJMvy9p",
        "outputId": "24db3063-24a7-4968-88ab-f2976c69a27c",
        "colab": {
          "base_uri": "https://localhost:8080/"
        }
      },
      "outputs": [
        {
          "output_type": "stream",
          "name": "stdout",
          "text": [
            "[[1 2]\n",
            " [3 4]] \n",
            "\n",
            " [[5 6]\n",
            " [7 8]] \n",
            "\n",
            " [ 9 10] \n",
            "\n",
            " [11 12]\n"
          ]
        }
      ],
      "source": [
        "x = np.array([[1,2],[3,4]])\n",
        "y = np.array([[5,6],[7,8]])\n",
        "\n",
        "v = np.array([9,10])\n",
        "w = np.array([11, 12])\n",
        "print(x, '\\n\\n', y, '\\n\\n', v, '\\n\\n', w)"
      ]
    },
    {
      "cell_type": "markdown",
      "metadata": {
        "id": "59fkFIThvy9p"
      },
      "source": [
        "![image.png](attachment:4775c518-47b9-4860-8f55-196766891597.png)"
      ]
    },
    {
      "cell_type": "markdown",
      "metadata": {
        "id": "VrxBpKguvy9p"
      },
      "source": [
        "____________________________________________![image.png](attachment:f04b0822-51b3-4ca0-9645-e930c515bb4b.png)"
      ]
    },
    {
      "cell_type": "code",
      "execution_count": null,
      "metadata": {
        "id": "bvCaswv9vy9q",
        "colab": {
          "base_uri": "https://localhost:8080/"
        },
        "outputId": "64c2a339-1992-45fa-b8b6-d81ba4120a4e"
      },
      "outputs": [
        {
          "output_type": "stream",
          "name": "stdout",
          "text": [
            "219\n",
            "219\n"
          ]
        }
      ],
      "source": [
        "print(v.dot(w))\n",
        "print(np.dot(v,w))"
      ]
    },
    {
      "cell_type": "code",
      "execution_count": null,
      "metadata": {
        "id": "qwwlLxXpvy9q"
      },
      "outputs": [],
      "source": []
    },
    {
      "cell_type": "markdown",
      "metadata": {
        "id": "zA9T0mWAvy9q"
      },
      "source": [
        "![image.png](attachment:86e4646b-afd4-45a8-bca2-92656bfba0fb.png)"
      ]
    },
    {
      "cell_type": "markdown",
      "metadata": {
        "id": "3bFJk02Kvy9q"
      },
      "source": [
        "Watch this video carefully at **home** and remember how matrices are multiplied\n",
        "\n",
        "https://www.youtube.com/watch?v=2spTnAiQg4M\n"
      ]
    },
    {
      "cell_type": "markdown",
      "metadata": {
        "id": "W8N2EZH2vy9r"
      },
      "source": [
        "____________________________________________![image.png](attachment:fd6fab27-ad50-469c-95af-88d37aa1565c.png)"
      ]
    },
    {
      "cell_type": "code",
      "execution_count": null,
      "metadata": {
        "id": "j53VJNoVvy9r",
        "colab": {
          "base_uri": "https://localhost:8080/"
        },
        "outputId": "fb3718e2-dc2f-4b4f-c5d5-35da050ec62c"
      },
      "outputs": [
        {
          "output_type": "stream",
          "name": "stdout",
          "text": [
            "[29 67]\n",
            "\n",
            "\n",
            "[29 67]\n"
          ]
        }
      ],
      "source": [
        "print(x.dot(v))\n",
        "print('\\n')\n",
        "print(np.dot(x,v))"
      ]
    },
    {
      "cell_type": "code",
      "execution_count": null,
      "metadata": {
        "id": "H4p7VWbJvy9r"
      },
      "outputs": [],
      "source": []
    },
    {
      "cell_type": "code",
      "execution_count": null,
      "metadata": {
        "id": "b009XrVQvy9s"
      },
      "outputs": [],
      "source": [
        "# an example of matrix multiplication:"
      ]
    },
    {
      "cell_type": "markdown",
      "metadata": {
        "id": "0jALuQLWvy9s"
      },
      "source": [
        "![image.png](attachment:134eb75e-46f0-4059-a113-23d0eb1e4b03.png)"
      ]
    },
    {
      "cell_type": "markdown",
      "metadata": {
        "id": "xaji-KWIvy9s"
      },
      "source": [
        "____________________________________________![image.png](attachment:88ed560c-87be-4ced-bf7e-e8f7f1c9d370.png)"
      ]
    },
    {
      "cell_type": "code",
      "execution_count": null,
      "metadata": {
        "id": "5KWWlG15vy9t",
        "colab": {
          "base_uri": "https://localhost:8080/"
        },
        "outputId": "1bcad823-62cd-4585-e6e4-22c5faa0f269"
      },
      "outputs": [
        {
          "output_type": "stream",
          "name": "stdout",
          "text": [
            "[[19 22]\n",
            " [43 50]]\n",
            "\n",
            "\n",
            "[[19 22]\n",
            " [43 50]]\n"
          ]
        }
      ],
      "source": [
        "print(x.dot(y))\n",
        "print('\\n')\n",
        "print(np.dot(x,y))"
      ]
    },
    {
      "cell_type": "code",
      "execution_count": null,
      "metadata": {
        "id": "QNaljCTavy9t"
      },
      "outputs": [],
      "source": []
    },
    {
      "cell_type": "code",
      "execution_count": null,
      "metadata": {
        "id": "2Sv9ayVgvy9t"
      },
      "outputs": [],
      "source": []
    },
    {
      "cell_type": "markdown",
      "metadata": {
        "id": "0RalZ-6yvy9t"
      },
      "source": [
        "<html> <h3 style=\"color:blue;\"> Random number array generator </h3> </html>"
      ]
    },
    {
      "cell_type": "markdown",
      "metadata": {
        "id": "D8iP4cOtvy9t"
      },
      "source": [
        "____________________________________________![image.png](attachment:b66acf21-ce8f-41c8-bda0-8446e71611f6.png)"
      ]
    },
    {
      "cell_type": "code",
      "source": [
        "np.random.rand(4)"
      ],
      "metadata": {
        "colab": {
          "base_uri": "https://localhost:8080/"
        },
        "id": "ohLX8X7LMhm4",
        "outputId": "4440866a-0355-44d2-fb7e-b19eee10354e"
      },
      "execution_count": null,
      "outputs": [
        {
          "output_type": "execute_result",
          "data": {
            "text/plain": [
              "array([0.00446609, 0.14260491, 0.76539293, 0.91392822])"
            ]
          },
          "metadata": {},
          "execution_count": 40
        }
      ]
    },
    {
      "cell_type": "code",
      "execution_count": null,
      "metadata": {
        "id": "MV-Mv55Yvy9u"
      },
      "outputs": [],
      "source": []
    },
    {
      "cell_type": "markdown",
      "metadata": {
        "id": "5g4ClmXpvy9u"
      },
      "source": [
        "____________________________________________![image.png](attachment:d502bc7f-c406-47cf-86b0-858b69aa0feb.png)"
      ]
    },
    {
      "cell_type": "code",
      "source": [
        "np.random.rand(4,4)"
      ],
      "metadata": {
        "colab": {
          "base_uri": "https://localhost:8080/"
        },
        "id": "IH8ewN1rMvIS",
        "outputId": "0a29fb37-df50-444e-951a-83a5684ffecc"
      },
      "execution_count": null,
      "outputs": [
        {
          "output_type": "execute_result",
          "data": {
            "text/plain": [
              "array([[4.18270861e-01, 8.83942558e-03, 6.08688913e-01, 8.35575615e-01],\n",
              "       [5.15950257e-04, 7.78035034e-01, 9.37869580e-01, 8.21920080e-02],\n",
              "       [2.31650327e-01, 5.22670111e-01, 1.88249180e-01, 4.86932834e-01],\n",
              "       [6.09285476e-01, 7.87671717e-02, 1.63092141e-01, 7.61529736e-01]])"
            ]
          },
          "metadata": {},
          "execution_count": 41
        }
      ]
    },
    {
      "cell_type": "code",
      "execution_count": null,
      "metadata": {
        "id": "JD-gnZzWvy9u"
      },
      "outputs": [],
      "source": []
    },
    {
      "cell_type": "code",
      "execution_count": null,
      "metadata": {
        "id": "ICtQlcmkvy9v"
      },
      "outputs": [],
      "source": []
    },
    {
      "cell_type": "markdown",
      "metadata": {
        "id": "fx1_T97fvy9v"
      },
      "source": [
        "##### Normal distribution (Gaussian distribution)"
      ]
    },
    {
      "cell_type": "markdown",
      "metadata": {
        "id": "gMZXssw_vy9v"
      },
      "source": [
        "![image.png](attachment:2a8d6d99-a743-406b-af0b-bded80612de1.png)"
      ]
    },
    {
      "cell_type": "markdown",
      "metadata": {
        "id": "9qDsF56Pvy9v"
      },
      "source": [
        "______________________![image.png](attachment:197e75d0-c7df-4e33-bbef-34d556c86be8.png)"
      ]
    },
    {
      "cell_type": "code",
      "source": [
        "np.random.randn(4,4)"
      ],
      "metadata": {
        "colab": {
          "base_uri": "https://localhost:8080/"
        },
        "id": "nezlGY75M4ps",
        "outputId": "ac906899-1bad-4e3f-eeeb-fae02b07c152"
      },
      "execution_count": null,
      "outputs": [
        {
          "output_type": "execute_result",
          "data": {
            "text/plain": [
              "array([[ 1.22340333,  0.90822256, -0.25025088,  2.70450617],\n",
              "       [-0.02912272,  1.01494652,  1.09033598, -1.93409514],\n",
              "       [ 1.04447784, -0.97634617, -0.29752574, -0.11930759],\n",
              "       [-0.12117571, -0.32595281,  0.64798591, -1.14229414]])"
            ]
          },
          "metadata": {},
          "execution_count": 42
        }
      ]
    },
    {
      "cell_type": "code",
      "execution_count": null,
      "metadata": {
        "id": "XCwtdWzIvy9w"
      },
      "outputs": [],
      "source": []
    },
    {
      "cell_type": "markdown",
      "metadata": {
        "id": "I5kwP3cvvy9w"
      },
      "source": [
        "____________________________________________![image.png](attachment:cd9a9f30-f9b9-42fb-8243-ddb743ee01c3.png)"
      ]
    },
    {
      "cell_type": "code",
      "source": [
        "np.random.randint(1,300)"
      ],
      "metadata": {
        "colab": {
          "base_uri": "https://localhost:8080/"
        },
        "id": "jl6SpIwkNDWM",
        "outputId": "e078e425-8258-41de-9eb6-0ff9cd408083"
      },
      "execution_count": null,
      "outputs": [
        {
          "output_type": "execute_result",
          "data": {
            "text/plain": [
              "31"
            ]
          },
          "metadata": {},
          "execution_count": 43
        }
      ]
    },
    {
      "cell_type": "code",
      "execution_count": null,
      "metadata": {
        "id": "NVzz1yUrvy9x"
      },
      "outputs": [],
      "source": []
    },
    {
      "cell_type": "markdown",
      "metadata": {
        "id": "jkkU6W18vy9x"
      },
      "source": [
        "____________________________________________![image.png](attachment:998bb937-89a8-416e-99da-0109fb725b6e.png)"
      ]
    },
    {
      "cell_type": "code",
      "source": [
        "np.random.randint(1,200,15)"
      ],
      "metadata": {
        "colab": {
          "base_uri": "https://localhost:8080/"
        },
        "id": "6GEDBWz_NPnc",
        "outputId": "e2bfc2b5-8ffe-4b27-d18e-c7947f37cc56"
      },
      "execution_count": null,
      "outputs": [
        {
          "output_type": "execute_result",
          "data": {
            "text/plain": [
              "array([171, 140,  18, 137,   9,  78, 160, 114, 132,  14, 187, 146,  12,\n",
              "       166,  12])"
            ]
          },
          "metadata": {},
          "execution_count": 44
        }
      ]
    },
    {
      "cell_type": "code",
      "execution_count": null,
      "metadata": {
        "id": "daYVZgdYvy9x"
      },
      "outputs": [],
      "source": []
    },
    {
      "cell_type": "code",
      "execution_count": null,
      "metadata": {
        "id": "YvmztWovvy9x"
      },
      "outputs": [],
      "source": []
    },
    {
      "cell_type": "markdown",
      "metadata": {
        "id": "0X3v-wVjvy9y"
      },
      "source": [
        "<html> <h3 style=\"color:blue;\"> Reshape </h3> </html>\n",
        "\n",
        "The shape (dimensions) of the array can be changed using the reshape() method\n",
        "This returns an array containing the same data with a new shape."
      ]
    },
    {
      "cell_type": "markdown",
      "metadata": {
        "id": "5RsIw_91vy9y"
      },
      "source": [
        "____________________________________________![image.png](attachment:288fc1d4-3930-4e62-8ec9-63be664670c3.png)"
      ]
    },
    {
      "cell_type": "code",
      "source": [
        "p = np.arange(0,15)\n",
        "p"
      ],
      "metadata": {
        "colab": {
          "base_uri": "https://localhost:8080/"
        },
        "id": "-1GTtzBtOxsQ",
        "outputId": "843f3f67-6963-43fc-b13e-5367ef473cfa"
      },
      "execution_count": null,
      "outputs": [
        {
          "output_type": "execute_result",
          "data": {
            "text/plain": [
              "array([ 0,  1,  2,  3,  4,  5,  6,  7,  8,  9, 10, 11, 12, 13, 14])"
            ]
          },
          "metadata": {},
          "execution_count": 47
        }
      ]
    },
    {
      "cell_type": "code",
      "execution_count": null,
      "metadata": {
        "id": "MJQbrcx-vy9y"
      },
      "outputs": [],
      "source": []
    },
    {
      "cell_type": "markdown",
      "metadata": {
        "id": "1BRsh1agvy9y"
      },
      "source": [
        "____________________________________________![image.png](attachment:3c35d8d2-17f4-43bc-a513-155af5c09df6.png)"
      ]
    },
    {
      "cell_type": "code",
      "source": [
        "p = p.reshape(3,5)\n",
        "p"
      ],
      "metadata": {
        "colab": {
          "base_uri": "https://localhost:8080/"
        },
        "id": "djpH6dsKO4AF",
        "outputId": "05d1c521-5aec-49d7-d4d3-b35bac396f99"
      },
      "execution_count": null,
      "outputs": [
        {
          "output_type": "execute_result",
          "data": {
            "text/plain": [
              "array([[ 0,  1,  2,  3,  4],\n",
              "       [ 5,  6,  7,  8,  9],\n",
              "       [10, 11, 12, 13, 14]])"
            ]
          },
          "metadata": {},
          "execution_count": 48
        }
      ]
    },
    {
      "cell_type": "code",
      "execution_count": null,
      "metadata": {
        "id": "N6j7GHlRvy9z"
      },
      "outputs": [],
      "source": []
    },
    {
      "cell_type": "markdown",
      "metadata": {
        "id": "IeDup9hyvy9z"
      },
      "source": [
        "____________________________________________![image.png](attachment:2ca2045d-3dba-4c89-aeac-8176014a3cdf.png)"
      ]
    },
    {
      "cell_type": "code",
      "source": [
        "s = np.arange(12).reshape(3,4)\n",
        "s"
      ],
      "metadata": {
        "colab": {
          "base_uri": "https://localhost:8080/"
        },
        "id": "CKmuzdFnO8eC",
        "outputId": "be0580c5-24ae-4696-9a57-507c94398c2b"
      },
      "execution_count": null,
      "outputs": [
        {
          "output_type": "execute_result",
          "data": {
            "text/plain": [
              "array([[ 0,  1,  2,  3],\n",
              "       [ 4,  5,  6,  7],\n",
              "       [ 8,  9, 10, 11]])"
            ]
          },
          "metadata": {},
          "execution_count": 49
        }
      ]
    },
    {
      "cell_type": "code",
      "execution_count": null,
      "metadata": {
        "id": "59tqPgWkvy9z"
      },
      "outputs": [],
      "source": []
    },
    {
      "cell_type": "code",
      "execution_count": null,
      "metadata": {
        "id": "81AiJZ0rvy90"
      },
      "outputs": [],
      "source": []
    },
    {
      "cell_type": "markdown",
      "metadata": {
        "id": "UXxBWzKxvy90"
      },
      "source": [
        "##### Transposing a Matrix"
      ]
    },
    {
      "cell_type": "markdown",
      "metadata": {
        "id": "pGiyCw62vy90"
      },
      "source": [
        "![image.png](attachment:ae787138-a47b-4140-9bec-99a532903bbd.png)"
      ]
    },
    {
      "cell_type": "markdown",
      "metadata": {
        "id": "DvgH3qU2vy91"
      },
      "source": [
        "____________________________________________![image.png](attachment:1e9d411f-d355-4233-9180-639e7659446d.png)"
      ]
    },
    {
      "cell_type": "code",
      "source": [
        "print(p.T)"
      ],
      "metadata": {
        "colab": {
          "base_uri": "https://localhost:8080/"
        },
        "id": "gfAjeFoaPHj9",
        "outputId": "08649135-d292-4092-a691-1d4ac61779af"
      },
      "execution_count": null,
      "outputs": [
        {
          "output_type": "stream",
          "name": "stdout",
          "text": [
            "[[ 0  5 10]\n",
            " [ 1  6 11]\n",
            " [ 2  7 12]\n",
            " [ 3  8 13]\n",
            " [ 4  9 14]]\n"
          ]
        }
      ]
    },
    {
      "cell_type": "code",
      "execution_count": null,
      "metadata": {
        "id": "t6GgQVPOvy91"
      },
      "outputs": [],
      "source": []
    },
    {
      "cell_type": "markdown",
      "metadata": {
        "id": "Ows6d-bLvy91"
      },
      "source": [
        "____________________________________________![image.png](attachment:f5b163a3-7ce4-4100-942b-efc07e220eed.png)"
      ]
    },
    {
      "cell_type": "markdown",
      "metadata": {
        "id": "l3MzzAbzvy91"
      },
      "source": [
        "The command does not create an \"empty\" matrix in the sense of being filled with zeros or having no values. Instead, it returns a new array with the same shape and data type as p, but without initialising the elements — meaning the array elements contain random values that happened to be in memory at the time of allocation"
      ]
    },
    {
      "cell_type": "code",
      "source": [
        "k = np.empty_like(p)\n",
        "k"
      ],
      "metadata": {
        "colab": {
          "base_uri": "https://localhost:8080/"
        },
        "id": "m_fgS7KkPLHF",
        "outputId": "fc6dc6dd-bf11-49e7-c249-fbcb389a9d98"
      },
      "execution_count": null,
      "outputs": [
        {
          "output_type": "execute_result",
          "data": {
            "text/plain": [
              "array([[ 0,  1,  2,  3,  4],\n",
              "       [ 5,  6,  7,  8,  9],\n",
              "       [10, 11, 12, 13, 14]])"
            ]
          },
          "metadata": {},
          "execution_count": 51
        }
      ]
    },
    {
      "cell_type": "code",
      "execution_count": null,
      "metadata": {
        "id": "UPQBk5xzvy92"
      },
      "outputs": [],
      "source": []
    },
    {
      "cell_type": "markdown",
      "metadata": {
        "id": "cyzytvT1vy92"
      },
      "source": [
        "____________________________________________![image.png](attachment:4bc158d4-9ab4-45cb-8f92-48339dd3e6e5.png)"
      ]
    },
    {
      "cell_type": "code",
      "source": [
        "v = np.array([1,0,1])\n",
        "print(v, '\\n')\n",
        "\n",
        "vv = np.tile(v,(4,1))\n",
        "print(vv)"
      ],
      "metadata": {
        "colab": {
          "base_uri": "https://localhost:8080/"
        },
        "id": "kT3v86WSPQIm",
        "outputId": "266e930f-ca54-49cf-94d8-865d5374be91"
      },
      "execution_count": null,
      "outputs": [
        {
          "output_type": "stream",
          "name": "stdout",
          "text": [
            "[1 0 1] \n",
            "\n",
            "[[1 0 1]\n",
            " [1 0 1]\n",
            " [1 0 1]\n",
            " [1 0 1]]\n"
          ]
        }
      ]
    },
    {
      "cell_type": "code",
      "execution_count": null,
      "metadata": {
        "id": "JzqZQ-H7vy93"
      },
      "outputs": [],
      "source": []
    },
    {
      "cell_type": "code",
      "execution_count": null,
      "metadata": {
        "id": "SgCGxEkJvy93"
      },
      "outputs": [],
      "source": []
    },
    {
      "cell_type": "markdown",
      "metadata": {
        "id": "Vwzj1t18vy93"
      },
      "source": [
        "<html> <h3 style=\"color:blue;\"> Functions </h3> </html>"
      ]
    },
    {
      "cell_type": "markdown",
      "metadata": {
        "id": "SFghPOUTvy93"
      },
      "source": [
        "____________________________________________![image.png](attachment:bf6cf184-57c9-4dd4-bfb2-7def73549040.png)"
      ]
    },
    {
      "cell_type": "code",
      "source": [
        "a"
      ],
      "metadata": {
        "colab": {
          "base_uri": "https://localhost:8080/"
        },
        "id": "eMtZl6mrPnZ4",
        "outputId": "0f26ae75-6b07-4afa-90d6-ab20bca3b10f"
      },
      "execution_count": null,
      "outputs": [
        {
          "output_type": "execute_result",
          "data": {
            "text/plain": [
              "array([[ 1, 88,  3,  4],\n",
              "       [ 5,  6,  7,  8],\n",
              "       [ 9, 10, 11, 12]])"
            ]
          },
          "metadata": {},
          "execution_count": 54
        }
      ]
    },
    {
      "cell_type": "code",
      "execution_count": null,
      "metadata": {
        "id": "K0Ovgihqvy94"
      },
      "outputs": [],
      "source": []
    },
    {
      "cell_type": "code",
      "execution_count": null,
      "metadata": {
        "id": "kIXrzC_evy94"
      },
      "outputs": [],
      "source": [
        "# Numpy provides many useful functions for performing computations on arrays; one of the most useful is sum:"
      ]
    },
    {
      "cell_type": "markdown",
      "metadata": {
        "id": "9PMN26R0vy94"
      },
      "source": [
        "____________________________________________![image.png](attachment:a7779684-6a28-49f0-9c2f-4fab2a79a47e.png)"
      ]
    },
    {
      "cell_type": "code",
      "source": [
        "print(np.sum(a))"
      ],
      "metadata": {
        "colab": {
          "base_uri": "https://localhost:8080/"
        },
        "id": "VzL9SS1tPpwF",
        "outputId": "47f5c18c-dab0-411d-8f00-875a9aa62bb1"
      },
      "execution_count": null,
      "outputs": [
        {
          "output_type": "stream",
          "name": "stdout",
          "text": [
            "164\n"
          ]
        }
      ]
    },
    {
      "cell_type": "code",
      "execution_count": null,
      "metadata": {
        "id": "RbKkDNXdvy94"
      },
      "outputs": [],
      "source": []
    },
    {
      "cell_type": "markdown",
      "metadata": {
        "id": "rGCZdjYAvy95"
      },
      "source": [
        "____________________________________________![image.png](attachment:26e7377d-c022-4e06-8ade-0f49b2759669.png)"
      ]
    },
    {
      "cell_type": "code",
      "source": [
        "print(np.sum(a,axis=0))"
      ],
      "metadata": {
        "colab": {
          "base_uri": "https://localhost:8080/"
        },
        "id": "MhGUrxcGPtzg",
        "outputId": "b5314cb6-ef63-47a1-885d-3f54c0957afa"
      },
      "execution_count": null,
      "outputs": [
        {
          "output_type": "stream",
          "name": "stdout",
          "text": [
            "[ 15 104  21  24]\n"
          ]
        }
      ]
    },
    {
      "cell_type": "code",
      "execution_count": null,
      "metadata": {
        "id": "tB30xDXIvy95"
      },
      "outputs": [],
      "source": []
    },
    {
      "cell_type": "markdown",
      "metadata": {
        "id": "IPY3Awiyvy95"
      },
      "source": [
        "____________________________________________![image.png](attachment:e7c61121-ac0a-43d5-a824-f12b26e99c73.png)"
      ]
    },
    {
      "cell_type": "code",
      "source": [
        "print(np.sum(a,axis=1))"
      ],
      "metadata": {
        "colab": {
          "base_uri": "https://localhost:8080/"
        },
        "id": "0aAj89DCPzra",
        "outputId": "7c2030fb-7f35-4c4b-d0c6-e61fa9ed6102"
      },
      "execution_count": null,
      "outputs": [
        {
          "output_type": "stream",
          "name": "stdout",
          "text": [
            "[96 26 42]\n"
          ]
        }
      ]
    },
    {
      "cell_type": "code",
      "execution_count": null,
      "metadata": {
        "id": "mRQzAjJ8vy96"
      },
      "outputs": [],
      "source": []
    },
    {
      "cell_type": "markdown",
      "metadata": {
        "id": "gP0HDRgMvy96"
      },
      "source": [
        "____________________________________________![image.png](attachment:0d80160c-983f-4bcf-9a16-6ce6911f9d4e.png)"
      ]
    },
    {
      "cell_type": "code",
      "source": [
        "a.max()"
      ],
      "metadata": {
        "colab": {
          "base_uri": "https://localhost:8080/"
        },
        "id": "DfM1J4uCP6kG",
        "outputId": "70ec72be-9a72-4419-a06c-e7fc89004e28"
      },
      "execution_count": null,
      "outputs": [
        {
          "output_type": "execute_result",
          "data": {
            "text/plain": [
              "np.int64(88)"
            ]
          },
          "metadata": {},
          "execution_count": 58
        }
      ]
    },
    {
      "cell_type": "code",
      "execution_count": null,
      "metadata": {
        "id": "q4_5zbABvy96"
      },
      "outputs": [],
      "source": []
    },
    {
      "cell_type": "markdown",
      "metadata": {
        "id": "Pq98N3pkvy97"
      },
      "source": [
        "____________________________________________![image.png](attachment:16c464a1-f29f-4bd6-8de8-e86eab73c66d.png)"
      ]
    },
    {
      "cell_type": "code",
      "source": [
        "a.min()"
      ],
      "metadata": {
        "colab": {
          "base_uri": "https://localhost:8080/"
        },
        "id": "qG-wK5CkP9Xk",
        "outputId": "43b11259-ac08-4682-946c-7c0c5bd9beba"
      },
      "execution_count": null,
      "outputs": [
        {
          "output_type": "execute_result",
          "data": {
            "text/plain": [
              "np.int64(1)"
            ]
          },
          "metadata": {},
          "execution_count": 59
        }
      ]
    },
    {
      "cell_type": "code",
      "execution_count": null,
      "metadata": {
        "id": "UQ9zLn5Rvy97"
      },
      "outputs": [],
      "source": []
    },
    {
      "cell_type": "markdown",
      "metadata": {
        "id": "q3DVZT8Gvy98"
      },
      "source": [
        "____________________________________________![image.png](attachment:7ed980b3-88aa-43ee-a31d-3d664d24d492.png)"
      ]
    },
    {
      "cell_type": "code",
      "source": [
        "a.argmax()"
      ],
      "metadata": {
        "colab": {
          "base_uri": "https://localhost:8080/"
        },
        "id": "EgBZGnW5QAI_",
        "outputId": "23d8e968-1686-4fd5-da2e-d970036de050"
      },
      "execution_count": null,
      "outputs": [
        {
          "output_type": "execute_result",
          "data": {
            "text/plain": [
              "np.int64(1)"
            ]
          },
          "metadata": {},
          "execution_count": 60
        }
      ]
    },
    {
      "cell_type": "code",
      "execution_count": null,
      "metadata": {
        "id": "2EL7wY_Ivy98"
      },
      "outputs": [],
      "source": []
    },
    {
      "cell_type": "markdown",
      "metadata": {
        "id": "tD0qh8C8vy98"
      },
      "source": [
        "____________________________________________![image.png](attachment:7ca34411-c78a-4d05-8f4b-64459220ad88.png)"
      ]
    },
    {
      "cell_type": "code",
      "source": [
        "a.argmin()"
      ],
      "metadata": {
        "colab": {
          "base_uri": "https://localhost:8080/"
        },
        "id": "ySCuB9b4QEdD",
        "outputId": "8c74bf1b-9c70-4c1a-cd87-76f266ad29f5"
      },
      "execution_count": null,
      "outputs": [
        {
          "output_type": "execute_result",
          "data": {
            "text/plain": [
              "np.int64(0)"
            ]
          },
          "metadata": {},
          "execution_count": 61
        }
      ]
    },
    {
      "cell_type": "code",
      "execution_count": null,
      "metadata": {
        "id": "UcfgsGotvy99"
      },
      "outputs": [],
      "source": []
    },
    {
      "cell_type": "code",
      "execution_count": null,
      "metadata": {
        "id": "i_YrHVb7vy99"
      },
      "outputs": [],
      "source": []
    },
    {
      "cell_type": "markdown",
      "metadata": {
        "id": "XtRCFdb4vy99"
      },
      "source": [
        "<html> <h3 style=\"color:blue;\"> Shape </h3> </html>"
      ]
    },
    {
      "cell_type": "markdown",
      "metadata": {
        "id": "emW-86Lqvy9-"
      },
      "source": [
        "The size of a Numpy array can be retrieved using the attribute named \"shape\". Please note it is not a method. Attribute does not use \"()\" when evoked."
      ]
    },
    {
      "cell_type": "markdown",
      "metadata": {
        "id": "-zNFSCiIvy9-"
      },
      "source": [
        "____________________________________________![image.png](attachment:c1e69ea3-9843-4361-87d3-39c77f8936e4.png)"
      ]
    },
    {
      "cell_type": "code",
      "source": [
        "arr = np.arange(10)\n",
        "print(arr)\n",
        "print(arr.shape)"
      ],
      "metadata": {
        "colab": {
          "base_uri": "https://localhost:8080/"
        },
        "id": "6Mxu2nPdQIkg",
        "outputId": "d5bec531-e911-4ffa-962b-1631b70a57b9"
      },
      "execution_count": null,
      "outputs": [
        {
          "output_type": "stream",
          "name": "stdout",
          "text": [
            "[0 1 2 3 4 5 6 7 8 9]\n",
            "(10,)\n"
          ]
        }
      ]
    },
    {
      "cell_type": "code",
      "execution_count": null,
      "metadata": {
        "id": "tqQe9fpUvy9-"
      },
      "outputs": [],
      "source": []
    },
    {
      "cell_type": "markdown",
      "metadata": {
        "id": "-J5-JYUCvy9_"
      },
      "source": [
        "____________________________________________![image.png](attachment:53dde3eb-9adf-400d-9d8b-e94692a80ef5.png)"
      ]
    },
    {
      "cell_type": "code",
      "source": [
        "print(a)\n",
        "print(a.shape)"
      ],
      "metadata": {
        "colab": {
          "base_uri": "https://localhost:8080/"
        },
        "id": "uL7hnPA9QUTf",
        "outputId": "8cf6d2b0-f21a-4811-8473-984e73971a3e"
      },
      "execution_count": null,
      "outputs": [
        {
          "output_type": "stream",
          "name": "stdout",
          "text": [
            "[[ 1 88  3  4]\n",
            " [ 5  6  7  8]\n",
            " [ 9 10 11 12]]\n",
            "(3, 4)\n"
          ]
        }
      ]
    },
    {
      "cell_type": "markdown",
      "metadata": {
        "id": "koGBcDPEvy9_"
      },
      "source": [
        "The shape of an array can be changed with various commands. Note that the following three commands all return a modified array, but do not change the original array:"
      ]
    },
    {
      "cell_type": "markdown",
      "metadata": {
        "id": "-LMmcpKfvy9_"
      },
      "source": [
        "____________________________________________![image.png](attachment:d481818b-d0c0-4c0b-8443-2369390cc1fa.png)"
      ]
    },
    {
      "cell_type": "code",
      "source": [
        "a.ravel()"
      ],
      "metadata": {
        "colab": {
          "base_uri": "https://localhost:8080/"
        },
        "id": "iX2009s4QYXC",
        "outputId": "8573cb37-2c8d-4bc3-c664-cd0597b167f7"
      },
      "execution_count": null,
      "outputs": [
        {
          "output_type": "execute_result",
          "data": {
            "text/plain": [
              "array([ 1, 88,  3,  4,  5,  6,  7,  8,  9, 10, 11, 12])"
            ]
          },
          "metadata": {},
          "execution_count": 65
        }
      ]
    },
    {
      "cell_type": "code",
      "execution_count": null,
      "metadata": {
        "id": "krvnjMy8vy-A"
      },
      "outputs": [],
      "source": []
    },
    {
      "cell_type": "markdown",
      "metadata": {
        "id": "tOeLRnP6vy-A"
      },
      "source": [
        "____________________________________________![image.png](attachment:e9a52f60-26dc-4230-97e6-b877ed8e8bba.png)"
      ]
    },
    {
      "cell_type": "code",
      "source": [
        "a.reshape(6,2)"
      ],
      "metadata": {
        "colab": {
          "base_uri": "https://localhost:8080/"
        },
        "id": "klxqykhOQctq",
        "outputId": "45f3ae8c-5cb1-4583-893e-0d200bbfc068"
      },
      "execution_count": null,
      "outputs": [
        {
          "output_type": "execute_result",
          "data": {
            "text/plain": [
              "array([[ 1, 88],\n",
              "       [ 3,  4],\n",
              "       [ 5,  6],\n",
              "       [ 7,  8],\n",
              "       [ 9, 10],\n",
              "       [11, 12]])"
            ]
          },
          "metadata": {},
          "execution_count": 66
        }
      ]
    },
    {
      "cell_type": "code",
      "execution_count": null,
      "metadata": {
        "id": "uip1hvqXvy-A"
      },
      "outputs": [],
      "source": []
    },
    {
      "cell_type": "markdown",
      "metadata": {
        "id": "bASnQUQCvy-A"
      },
      "source": [
        "____________________________________________![image.png](attachment:4ac28c80-ba5d-4357-a3e7-6fba7fc3d9f4.png)"
      ]
    },
    {
      "cell_type": "code",
      "source": [
        "print(a.shape)\n",
        "print(a.T.shape)"
      ],
      "metadata": {
        "colab": {
          "base_uri": "https://localhost:8080/"
        },
        "id": "luc0LMg-Qidy",
        "outputId": "a9c99782-6845-412d-e6af-59b3f1eb8ffd"
      },
      "execution_count": null,
      "outputs": [
        {
          "output_type": "stream",
          "name": "stdout",
          "text": [
            "(3, 4)\n",
            "(4, 3)\n"
          ]
        }
      ]
    },
    {
      "cell_type": "code",
      "execution_count": null,
      "metadata": {
        "id": "yUDa5h0cvy-B"
      },
      "outputs": [],
      "source": []
    },
    {
      "cell_type": "code",
      "execution_count": null,
      "metadata": {
        "id": "4b3U22Dhvy-B"
      },
      "outputs": [],
      "source": []
    },
    {
      "cell_type": "markdown",
      "metadata": {
        "id": "dFlRFcx-vy-B"
      },
      "source": [
        "Change matrix a to **2-d** array with 1 column. Notice the two sets of brackets for a 2-d array with one column.\n",
        "\n",
        "Save it in another array.\n",
        "\n",
        "Check the shape attribute value."
      ]
    },
    {
      "cell_type": "markdown",
      "metadata": {
        "id": "LkFuaIgqvy-C"
      },
      "source": [
        "____________________________________________![image.png](attachment:a3063539-2ef1-4ae3-a392-e9baf8ab8ca3.png)"
      ]
    },
    {
      "cell_type": "code",
      "source": [
        "a3 = a.reshape(12,1)\n",
        "print(a3)\n",
        "print('\\n')\n",
        "print(a3.shape)"
      ],
      "metadata": {
        "colab": {
          "base_uri": "https://localhost:8080/"
        },
        "id": "O3lz5wEGQo0d",
        "outputId": "0cdceb27-de48-4321-dbaf-289713558353"
      },
      "execution_count": null,
      "outputs": [
        {
          "output_type": "stream",
          "name": "stdout",
          "text": [
            "[[ 1]\n",
            " [88]\n",
            " [ 3]\n",
            " [ 4]\n",
            " [ 5]\n",
            " [ 6]\n",
            " [ 7]\n",
            " [ 8]\n",
            " [ 9]\n",
            " [10]\n",
            " [11]\n",
            " [12]]\n",
            "\n",
            "\n",
            "(12, 1)\n"
          ]
        }
      ]
    },
    {
      "cell_type": "code",
      "execution_count": null,
      "metadata": {
        "id": "u-ploHfGvy-C"
      },
      "outputs": [],
      "source": []
    },
    {
      "cell_type": "markdown",
      "metadata": {
        "id": "DsDCdUUbvy-C"
      },
      "source": [
        "<html> <h3 style=\"font-style:italic; color:#FF0000;\"> (!) From the point of view of mathematics - this is a 1-d vector.\n",
        "However, in terms of Numpy, it is a 2-dimensional array.\n",
        "</h3> </html>"
      ]
    },
    {
      "cell_type": "code",
      "execution_count": null,
      "metadata": {
        "id": "_upPf4y8vy-C"
      },
      "outputs": [],
      "source": []
    },
    {
      "cell_type": "markdown",
      "metadata": {
        "id": "mm7ExMWtvy-D"
      },
      "source": [
        "# Lab Logbook Requirement:"
      ]
    },
    {
      "cell_type": "markdown",
      "metadata": {
        "id": "nXBiiMwxvy-D"
      },
      "source": [
        "<html> <h3 style=\"font-style:italic; color:blue;\">\n",
        "1) Create a vector using np.arange.\n",
        "\n",
        "Determine the number of the vector elements using the following method: Take the last two digits from your SID. It should be from 00 to 99. If this number is 10 or more, it becomes the required number of the vector elements. If it is less than 10, add 100 to your number.\n",
        "\n",
        "For example, if your SID is 2287467, and the last two digits are 67, which is greater than 10. The required number is 67. If your SID is 2287407, and the last two digits are 07, which is less than 10. The required number is 107.\n",
        "\n",
        "Then,\n",
        "\n",
        "2) Change matrix a to 2-d array with 1 row. Print the array.\n",
        "You should have the two sets of brackets for a 2-d array with one row.\n",
        "3) Save it in another array. Print the array.\n",
        "4) Check the shape attribute value.\n",
        "5) Add the code and result to your Lab Logbook\n",
        "</h3> </html>"
      ]
    },
    {
      "cell_type": "markdown",
      "metadata": {
        "id": "jqrFGrZOvy-D"
      },
      "source": [
        "<html> <h3 style=\"color:red;\">\n",
        "NOTE: DON'T FORGET TO SAVE AND BACK UP YOUR COMPLETED JUPYTER NOTEBOOK AND LAB LOGBOOK ON GITHUB OR ONEDRIVE.\n",
        "</h3> </html>"
      ]
    },
    {
      "cell_type": "code",
      "source": [
        "a = np.arange(0,23)\n",
        "print(f\"1.\\t{a}\")\n",
        "a2d = a.reshape(1,23)\n",
        "print(f\"2.\\t{a2d}\")\n",
        "print(f\"Shape Attribute Value:\\t{a2d.shape}\")"
      ],
      "metadata": {
        "colab": {
          "base_uri": "https://localhost:8080/"
        },
        "id": "MHpT346oRhXt",
        "outputId": "f6adee91-6be5-4898-99ad-e01aeba4e9a8"
      },
      "execution_count": null,
      "outputs": [
        {
          "output_type": "stream",
          "name": "stdout",
          "text": [
            "1.\t[ 0  1  2  3  4  5  6  7  8  9 10 11 12 13 14 15 16 17 18 19 20 21 22]\n",
            "2.\t[[ 0  1  2  3  4  5  6  7  8  9 10 11 12 13 14 15 16 17 18 19 20 21 22]]\n",
            "Shape Attribute Value:\t(1, 23)\n"
          ]
        }
      ]
    }
  ],
  "metadata": {
    "kernelspec": {
      "display_name": "Python 3",
      "name": "python3"
    },
    "language_info": {
      "name": "python"
    },
    "colab": {
      "provenance": [],
      "gpuType": "T4",
      "include_colab_link": true
    },
    "accelerator": "GPU"
  },
  "nbformat": 4,
  "nbformat_minor": 0
}